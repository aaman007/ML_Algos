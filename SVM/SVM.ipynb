{
  "nbformat": 4,
  "nbformat_minor": 0,
  "metadata": {
    "colab": {
      "name": "SVM_Lecture.ipynb",
      "provenance": [],
      "collapsed_sections": []
    },
    "kernelspec": {
      "name": "python3",
      "display_name": "Python 3"
    }
  },
  "cells": [
    {
      "cell_type": "code",
      "metadata": {
        "colab": {
          "base_uri": "https://localhost:8080/"
        },
        "id": "nU5KtIBn1Y5r",
        "outputId": "0bcc7e58-5d7e-4f84-c4e2-80b691a2603b"
      },
      "source": [
        "# Load libraries\n",
        "from sklearn.model_selection import train_test_split # Import train_test_split function\n",
        "from sklearn.metrics import confusion_matrix\n",
        "from sklearn.metrics import accuracy_score\n",
        "from sklearn import metrics #Import scikit-learn metrics module for accuracy calculation\n",
        "from sklearn import datasets #Import scikit-learn dataset library\n",
        "\n",
        "\n",
        "\n",
        "\n",
        "#Load dataset\n",
        "digits = datasets.load_digits()\n",
        "\n",
        "# print the names of the Shape\n",
        "print(\"Shape: \", digits.data.shape)\n",
        "\n",
        "# print the label target name\n",
        "print(\"Labels: \", digits.target_names)\n",
        "\n",
        "print('\\n\\n\\n Break --- > .......\\n\\n\\n')"
      ],
      "execution_count": 5,
      "outputs": [
        {
          "output_type": "stream",
          "text": [
            "Shape:  (1797, 64)\n",
            "Labels:  [0 1 2 3 4 5 6 7 8 9]\n",
            "\n",
            "\n",
            "\n",
            " Break --- > .......\n",
            "\n",
            "\n",
            "\n"
          ],
          "name": "stdout"
        }
      ]
    },
    {
      "cell_type": "code",
      "metadata": {
        "colab": {
          "base_uri": "https://localhost:8080/"
        },
        "id": "l2W4V1_eem5f",
        "outputId": "1dfd7a08-d3a3-4761-c6f3-e78faad5dffa"
      },
      "source": [
        "\n",
        "\n",
        "# Split dataset into training set and test set\n",
        "X_train, X_test, y_train, y_test = train_test_split(digits.data, digits.target, test_size=0.3,random_state=109) # 70% training and 30% test\n",
        "\n",
        "#Import svm model\n",
        "from sklearn import svm\n",
        "\n",
        "#Create a svm Classifier\n",
        "clf = svm.SVC(kernel='linear') # Linear Kernel\n",
        "\n",
        "#Train the model using the training sets\n",
        "clf.fit(X_train, y_train)\n",
        "\n",
        "#Predict the response for test dataset\n",
        "y_pred = clf.predict(X_test)\n",
        "\n",
        "# Model Accuracy, how often is the classifier correct?\n",
        "print(\"SVM Classifier Accuracy 1:\",metrics.accuracy_score(y_test, y_pred))\n",
        "\n",
        "#Evaluating the Algorithm For evaluating an algorithm, confusion matrix, precision, recall and f1 score are the most commonly used metrics\n",
        "from sklearn.metrics import classification_report, confusion_matrix\n",
        "print('Confusion Matrix: \\n')\n",
        "print(confusion_matrix(y_test, y_pred))\n",
        "\n",
        "print('\\n\\n Classification Report: \\n')\n",
        "print(classification_report(y_test, y_pred))"
      ],
      "execution_count": 6,
      "outputs": [
        {
          "output_type": "stream",
          "text": [
            "SVM Classifier Accuracy 1: 0.9814814814814815\n",
            "Confusion Matrix: \n",
            "\n",
            "[[43  0  0  0  0  0  0  0  0  0]\n",
            " [ 0 56  0  0  0  0  0  0  0  0]\n",
            " [ 0  0 51  0  0  0  0  0  0  0]\n",
            " [ 0  0  0 59  0  0  0  0  1  0]\n",
            " [ 0  0  0  0 48  0  0  0  0  0]\n",
            " [ 0  0  0  0  0 48  1  0  0  0]\n",
            " [ 1  0  0  0  0  0 57  0  0  0]\n",
            " [ 0  0  0  0  0  0  0 63  0  1]\n",
            " [ 0  2  0  0  0  0  0  0 57  1]\n",
            " [ 0  0  0  0  0  2  0  0  1 48]]\n",
            "\n",
            "\n",
            " Classification Report: \n",
            "\n",
            "              precision    recall  f1-score   support\n",
            "\n",
            "           0       0.98      1.00      0.99        43\n",
            "           1       0.97      1.00      0.98        56\n",
            "           2       1.00      1.00      1.00        51\n",
            "           3       1.00      0.98      0.99        60\n",
            "           4       1.00      1.00      1.00        48\n",
            "           5       0.96      0.98      0.97        49\n",
            "           6       0.98      0.98      0.98        58\n",
            "           7       1.00      0.98      0.99        64\n",
            "           8       0.97      0.95      0.96        60\n",
            "           9       0.96      0.94      0.95        51\n",
            "\n",
            "    accuracy                           0.98       540\n",
            "   macro avg       0.98      0.98      0.98       540\n",
            "weighted avg       0.98      0.98      0.98       540\n",
            "\n"
          ],
          "name": "stdout"
        }
      ]
    },
    {
      "cell_type": "markdown",
      "metadata": {
        "id": "_rI3Ps0VJ1-e"
      },
      "source": [
        ""
      ]
    }
  ]
}